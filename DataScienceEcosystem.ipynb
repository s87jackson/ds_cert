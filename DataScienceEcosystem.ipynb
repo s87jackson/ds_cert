{
 "cells": [
  {
   "cell_type": "markdown",
   "id": "7b188abd-1b72-4701-a032-fd6a0650d742",
   "metadata": {},
   "source": [
    "# Data Science Tools and Ecosystem"
   ]
  },
  {
   "cell_type": "markdown",
   "id": "f0b731cc-3516-44e1-b218-0cf8ada1629b",
   "metadata": {},
   "source": [
    "In this notebook, Data Science Tools and Ecosystem are summarized.\n"
   ]
  },
  {
   "cell_type": "markdown",
   "id": "50cfd27a-8fb4-45cf-8c7d-a194ab0588d4",
   "metadata": {},
   "source": [
    "__Objectives:__\n",
    "- popular languages\n",
    "- libraries\n",
    "- tools\n",
    "- expressions\n",
    "\n",
    "## Author\n",
    "Steve Jackson"
   ]
  },
  {
   "cell_type": "markdown",
   "id": "894a1095-72a4-41bc-9a95-5eca742fcd92",
   "metadata": {},
   "source": [
    "Some of the popular languages that Data Scientists use are:\r",
    "1. R\n",
    "2. Julia\n",
    "3. Python\n",
    "4. Scala\n",
    "5. Java\n",
    "6. Go\n"
   ]
  },
  {
   "cell_type": "markdown",
   "id": "9ed2c28b-f081-4760-af13-f713a9d53480",
   "metadata": {},
   "source": [
    "Some of the commonly used libraries used by Data Scientists include:\r",
    "1. scikitlearn\n",
    "2. pandas\n",
    "3. keras\n",
    "4. tensorflow\n",
    "5. h2o\n"
   ]
  },
  {
   "cell_type": "markdown",
   "id": "eaecbe30-e350-4e16-afdc-f2c927b1bb46",
   "metadata": {},
   "source": [
    "| Data Science Tools |\n",
    "|--------------------|\n",
    "|Jupyter Notebooks   |\n",
    "|Rstudio             |\n",
    "|Google Collab       |\n",
    "|Anaconda            |"
   ]
  },
  {
   "cell_type": "markdown",
   "id": "ac2453a7-0183-4fca-bdf5-480f6755e8f9",
   "metadata": {},
   "source": [
    "### Below are a few examples of evaluating arithmetic expressions in Python."
   ]
  },
  {
   "cell_type": "code",
   "execution_count": 2,
   "id": "16992220-d5ca-4f88-abdf-1709038fae33",
   "metadata": {},
   "outputs": [
    {
     "data": {
      "text/plain": [
       "17"
      ]
     },
     "execution_count": 2,
     "metadata": {},
     "output_type": "execute_result"
    }
   ],
   "source": [
    "# This a simple arithmetic expression to multiply then add integers\n",
    "(3*4)+5"
   ]
  },
  {
   "cell_type": "code",
   "execution_count": 3,
   "id": "6b79599b-74db-4734-8a18-7250397a607e",
   "metadata": {},
   "outputs": [
    {
     "data": {
      "text/plain": [
       "3.3333333333333335"
      ]
     },
     "execution_count": 3,
     "metadata": {},
     "output_type": "execute_result"
    }
   ],
   "source": [
    "# This will convert 200 minutes to hours by dividing by 60.\n",
    "200/60"
   ]
  },
  {
   "cell_type": "code",
   "execution_count": null,
   "id": "3c961e7b-9b36-40c6-a5a1-5d36ac643d00",
   "metadata": {},
   "outputs": [],
   "source": []
  }
 ],
 "metadata": {
  "kernelspec": {
   "display_name": "Python 3 (ipykernel)",
   "language": "python",
   "name": "python3"
  },
  "language_info": {
   "codemirror_mode": {
    "name": "ipython",
    "version": 3
   },
   "file_extension": ".py",
   "mimetype": "text/x-python",
   "name": "python",
   "nbconvert_exporter": "python",
   "pygments_lexer": "ipython3",
   "version": "3.11.7"
  }
 },
 "nbformat": 4,
 "nbformat_minor": 5
}
